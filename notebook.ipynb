{
 "nbformat": 4,
 "nbformat_minor": 2,
 "metadata": {
  "language_info": {
   "name": "python",
   "codemirror_mode": {
    "name": "ipython",
    "version": 3
   },
   "version": "3.7.5-final"
  },
  "orig_nbformat": 2,
  "file_extension": ".py",
  "mimetype": "text/x-python",
  "name": "python",
  "npconvert_exporter": "python",
  "pygments_lexer": "ipython3",
  "version": 3,
  "kernelspec": {
   "name": "python37564bitclassifypostscondabd9a8a1602684f53b4577077e78e2e54",
   "display_name": "Python 3.7.5 64-bit ('classifyposts': conda)"
  }
 },
 "cells": [
  {
   "cell_type": "code",
   "execution_count": 7,
   "metadata": {},
   "outputs": [],
   "source": [
    "import pandas as pd\n",
    "import numpy as np\n",
    "\n",
    "df_train = pd.read_csv(\"Data/comp3208-small/comp3208-train-small.csv\", names=['userId', 'itemId', 'rating', 'time'])\n",
    "df_test = pd.read_csv(\"Data/comp3208-small/comp3208-test-small.csv\", names=['userId', 'itemId', 'rating', 'time'])"
   ]
  },
  {
   "cell_type": "code",
   "execution_count": 9,
   "metadata": {},
   "outputs": [
    {
     "name": "stdout",
     "output_type": "stream",
     "text": "<class 'pandas.core.frame.DataFrame'>\nRangeIndex: 9425746 entries, 0 to 9425745\nData columns (total 4 columns):\nuserId    int64\nitemId    int64\nrating    object\ntime      int64\ndtypes: int64(3), object(1)\nmemory usage: 287.7+ MB\n\n\n<class 'pandas.core.frame.DataFrame'>\nRangeIndex: 496527 entries, 0 to 496526\nData columns (total 4 columns):\nuserId    496527 non-null int64\nitemId    496527 non-null int64\nrating    496527 non-null int64\ntime      0 non-null float64\ndtypes: float64(1), int64(3)\nmemory usage: 15.2 MB\n"
    }
   ],
   "source": [
    "df_train.info()\n",
    "print('\\n')\n",
    "df_test.info()"
   ]
  },
  {
   "cell_type": "code",
   "execution_count": null,
   "metadata": {},
   "outputs": [],
   "source": []
  }
 ]
}